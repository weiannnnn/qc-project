{
 "cells": [
  {
   "cell_type": "markdown",
   "metadata": {},
   "source": [
    "toddwildey/shors-python, copyright "
   ]
  },
  {
   "cell_type": "code",
   "execution_count": 1,
   "metadata": {},
   "outputs": [],
   "source": [
    "def printNone(str):\n",
    "    pass\n",
    "\n",
    "def printVerbose(str):\n",
    "    print(str)\n",
    "    \n",
    "    \n",
    "printInfo = printNone"
   ]
  },
  {
   "cell_type": "code",
   "execution_count": null,
   "metadata": {},
   "outputs": [],
   "source": [
    "# Quantum Components\n",
    "class Mapping:\n",
    "    def __init__(self, state, amplitude):\n",
    "        self.state = state\n",
    "        self.amplitude\n",
    "        \n",
    "        \n",
    "class QuantumState: \n",
    "    def __init__(self, amplitude, register):\n",
    "        self.amplitude = amplitude\n",
    "        self.register = register\n",
    "        self.entangled = {}\n",
    "        \n",
    "    def entangle(self, fromState, amplitude):\n",
    "        register = fromState.register\n",
    "        entanglement = Mapping(fromState, amplitude)\n",
    "        try: \n",
    "            self.entanglement[register].append(entanglement)\n",
    "        except KeyError:\n",
    "            self.entangeled[register] = [entanglement]\n",
    "            \n",
    "    def entangles(self, register = None):\n",
    "        entangles = 0\n",
    "        if register is None:\n",
    "            for states in self.entangled.values():\n",
    "                entangles += len(states)\n",
    "        else:\n",
    "            entangles = len(self.entangled[register])\n",
    "        \n",
    "        return entangles\n",
    "    \n",
    "\n",
    "class QubitRegister: \n",
    "    def __init__(self, numBits):\n",
    "        self.numBits = numBits\n",
    "        self.numStates = 1 << numBits\n",
    "        self.entangled = []\n",
    "        self.states = [QuantumStates(complex(0.0), self) for x in range(self.numStates)]\n",
    "        self.states[0].amplitude = complex(1.0)\n",
    "        \n",
    "    def propoagate(self, fromRegister = None):\n",
    "        if fromRegister is not None: "
   ]
  }
 ],
 "metadata": {
  "kernelspec": {
   "display_name": "Python 3",
   "language": "python",
   "name": "python3"
  },
  "language_info": {
   "codemirror_mode": {
    "name": "ipython",
    "version": 3
   },
   "file_extension": ".py",
   "mimetype": "text/x-python",
   "name": "python",
   "nbconvert_exporter": "python",
   "pygments_lexer": "ipython3",
   "version": "3.8.5"
  }
 },
 "nbformat": 4,
 "nbformat_minor": 4
}
