{
 "cells": [
  {
   "cell_type": "markdown",
   "metadata": {},
   "source": [
    "This exercise delves into quantum gates that are defined in terms of angles $R_x(\\theta)$, $R_y(\\theta)$, $R_z(\\theta)$\n",
    "\n",
    "Applications: The angles in these gates are used as \"tuning\" mechanisms in **variational quantum algorithms** to minimize cost functions (e.g. in variational quantum eigensolver, gate parameters are used to minimize the expectation of the Hamiltonian $<\\psi(\\theta)|{H}|\\psi(\\theta)>$\n",
    "\n"
   ]
  },
  {
   "cell_type": "markdown",
   "metadata": {},
   "source": [
    "Goal: Set up simple quantum circuit with one parameterized gate, and execute the algorithm for a sweep of parameters and plot the measurement results. The symbol is used to represent the numerical value of the parameter that will be determined later"
   ]
  },
  {
   "cell_type": "code",
   "execution_count": 1,
   "metadata": {},
   "outputs": [],
   "source": [
    "# Imports\n",
    "import matplotlib.pyplot as plt\n",
    "import sympy\n",
    "import cirq\n",
    "\n",
    "# Create a qubit register and create a circuit\n",
    "qbit = cirq.LineQubit(0)\n",
    "circ = cirq.Circuit()\n",
    "symbol = sympy.Symbol(\"t\")\n"
   ]
  },
  {
   "cell_type": "code",
   "execution_count": 2,
   "metadata": {},
   "outputs": [],
   "source": [
    "# Add a parameterised gate\n",
    "circ.append(cirq.XPowGate(exponent=symbol)(qbit))\n",
    "\n",
    "# Measure\n",
    "circ.append(cirq.measure(qbit, key=\"z\"))"
   ]
  },
  {
   "cell_type": "code",
   "execution_count": 3,
   "metadata": {},
   "outputs": [
    {
     "name": "stdout",
     "output_type": "stream",
     "text": [
      "Circuit:\n",
      "0: ───X^t───M('z')───\n"
     ]
    }
   ],
   "source": [
    "print(\"Circuit:\")\n",
    "print(circ)"
   ]
  },
  {
   "cell_type": "markdown",
   "metadata": {},
   "source": [
    "Sweep over the parameter values in linear space, starting at 0 and stopping at 2 with 100 readings in between.\n",
    "\n",
    "run_sweep executes the circuit at all values in a sweep. For each value, the circuit is simulated ${repetitions} times"
   ]
  },
  {
   "cell_type": "code",
   "execution_count": 8,
   "metadata": {},
   "outputs": [],
   "source": [
    "# Get a sweep over the parameter values\n",
    "sweep = cirq.Linspace(key=symbol.name, start=0.0, stop=2.0, length=100)\n",
    "sim = cirq.Simulator()\n",
    "res = sim.run_sweep(circ, sweep, repetitions=1000)"
   ]
  },
  {
   "cell_type": "markdown",
   "metadata": {},
   "source": [
    "For each value in the sweep, plot the measurement outcome"
   ]
  },
  {
   "cell_type": "code",
   "execution_count": 10,
   "metadata": {},
   "outputs": [
    {
     "data": {
      "text/plain": [
       "[<matplotlib.lines.Line2D at 0x7ff6d719df70>]"
      ]
     },
     "execution_count": 10,
     "metadata": {},
     "output_type": "execute_result"
    },
    {
     "data": {
      "image/png": "[encoded data removed]",
      "text/plain": [
       "<Figure size 432x288 with 1 Axes>"
      ]
     },
     "metadata": {
      "needs_background": "light"
     },
     "output_type": "display_data"
    }
   ],
   "source": [
    "angles = [x[0][1] for x in sweep.param_tuples()]\n",
    "zeroes = [res[i].histogram(key=\"z\")[0]/1000 for i in range(len(res))]\n",
    "plt.plot(angles, zeroes, \"--\", linewidth=3)"
   ]
  },
  {
   "cell_type": "code",
   "execution_count": null,
   "metadata": {},
   "outputs": [],
   "source": []
  }
 ],
 "metadata": {
  "kernelspec": {
   "display_name": "Python 3",
   "language": "python",
   "name": "python3"
  },
  "language_info": {
   "codemirror_mode": {
    "name": "ipython",
    "version": 3
   },
   "file_extension": ".py",
   "mimetype": "text/x-python",
   "name": "python",
   "nbconvert_exporter": "python",
   "pygments_lexer": "ipython3",
   "version": "3.8.5"
  }
 },
 "nbformat": 4,
 "nbformat_minor": 4
}
