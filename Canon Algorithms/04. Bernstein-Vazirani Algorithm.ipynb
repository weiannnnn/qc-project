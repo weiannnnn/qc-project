{
 "cells": [
  {
   "cell_type": "markdown",
   "metadata": {},
   "source": [
    "Similarly to the Deustch-Jorza function, the BV algorithm deals with the concept of a black-box Boolean function. \n",
    "\n",
    "However, while the DJ function only shows quantum supremacy when there is 0 error rate (when a small error rate is introduced, both classical and quantum approaches are in order $O(1)$ complexity), BV shows clear quantum supremacy even when allowing for small error (i.e. it is true deterministic speedup)  "
   ]
  },
  {
   "cell_type": "markdown",
   "metadata": {},
   "source": [
    "the problem statement is: \n",
    "\n",
    "Given an unknown function of $n$ inputs: \n",
    "$$f(x_{n-1}, x_{n-3},...,x_1, x_0)$$\n",
    "let $a$ be an unknown non-negative integer less than $2^n$. \n",
    "\n",
    "Let $f(x)$ take any other integer $x$ and modulu-2 sum $x$ multiplied by $a$ such that the output is\n",
    "$$a . x = a_0x_0 \\oplus a_1x_1 \\oplus a_2x_2 ...$$\n",
    "Find $a$ in one query of the oracle"
   ]
  },
  {
   "cell_type": "code",
   "execution_count": 1,
   "metadata": {},
   "outputs": [],
   "source": [
    "# Imports\n",
    "import random\n",
    "import cirq"
   ]
  },
  {
   "cell_type": "code",
   "execution_count": 7,
   "metadata": {},
   "outputs": [],
   "source": [
    "def main():\n",
    "    \"\"\"Executes the BV algorithm\"\"\"\n",
    "    # number of input qubits, n + 1 for output qubit\n",
    "    qubit_count = 8\n",
    "    circuit_sample_count = 3\n",
    "    \n",
    "    # Choose qubits to use\n",
    "    input_qubits = [cirq.GridQubit(i, 0) for i in range(qubit_count)]\n",
    "    # Reserve last qubit for otuput_qubit\n",
    "    output_qubit = cirq.GridQubit(qubit_count, 0)\n",
    "    \n",
    "    # Pick coefficients for the oracle and create a circuit to query it\n",
    "    secret_bias_bit = random.randint(0, 1)\n",
    "    secret_factor_bits = [random.randint(0, 1) for _ in range(qubit_count)]\n",
    "    oracle = make_oracle(input_qubits, output_qubit, secret_factor_bits, secret_bias_bit)\n",
    "    print('Secret function:\\nf(x) = x*<{}> + {} (mod 2)'.format(','.join(str(e) for e in secret_factor_bits),secret_bias_bit))\n",
    "    \n",
    "    # Embed the oracle into special quantum circuit querying it exactly once\n",
    "    circuit = make_bernstein_vazraini_circuit(input_qubits, output_qubit, oracle)\n",
    "    print('\\nCircuit:')\n",
    "    print(circuit)\n",
    "    \n",
    "    # Sample from the circuit a few times\n",
    "    simulator = cirq.Simulator()\n",
    "    result = simulator.run(circuit, repetitions=circuit_sample_count)\n",
    "    frequencies = result.histogram(key='result', fold_func=bitstring)\n",
    "    print('\\nMSampled results:\\n{}'.format(frequencies))\n",
    "    \n",
    "    # Check if we really found the secret value\n",
    "    most_common_bitstring = frequencies.most_common(1)[0][0]\n",
    "    print('\\nMost common matches secret factors:\\n{}'.format(most_common_bitstring == bitstring(secret_factor_bits)))\n"
   ]
  },
  {
   "cell_type": "code",
   "execution_count": 8,
   "metadata": {},
   "outputs": [],
   "source": [
    "def make_oracle(input_qubits, output_qubit, secret_factor_bits, secret_bias_bit):\n",
    "    \"\"\"Gates implementing the function f(a) = a*factors + bias (mod 2).\"\"\"\n",
    "    # Initialise target/ouptput register to |1> with X operator\n",
    "    if secret_bias_bit:\n",
    "        yield cirq.X(output_qubit)\n",
    "        \n",
    "    # Initialise data register qubits from state |0> to |+> or |-> basis by applying H\n",
    "    for qubit, bit in zip(input_qubits, secret_factor_bits):\n",
    "        if bit:\n",
    "            yield cirq.CNOT(qubit, output_qubit)"
   ]
  },
  {
   "cell_type": "code",
   "execution_count": 9,
   "metadata": {},
   "outputs": [],
   "source": [
    "def make_bernstein_vazraini_circuit(input_qubits, output_qubit, oracle):\n",
    "    \"\"\"Solves for factors in f(a) = a*factors + bias (mod 2) with one query.\"\"\"\n",
    "    c = cirq.Circuit()\n",
    "    \n",
    "    # Initialise qubits\n",
    "    c.append([\n",
    "        cirq.X(output_qubit),\n",
    "        cirq.measure(output_qubit),\n",
    "        cirq.H.on_each(*input_qubits),\n",
    "    ])\n",
    "    \n",
    "    # Query oracle\n",
    "    c.append(oracle)\n",
    "    \n",
    "    # Measure in X basis\n",
    "    c.append([\n",
    "        cirq.H.on_each(*input_qubits),\n",
    "        cirq.measure(*input_qubits, key='result')\n",
    "    ])\n",
    "    \n",
    "    return c"
   ]
  },
  {
   "cell_type": "code",
   "execution_count": 10,
   "metadata": {},
   "outputs": [],
   "source": [
    "def bitstring(bits):\n",
    "    \"\"\"Creates. bit string out of an iterable of bits\"\"\"\n",
    "    return ''.join(str(int(b)) for b in bits)"
   ]
  },
  {
   "cell_type": "code",
   "execution_count": 11,
   "metadata": {},
   "outputs": [
    {
     "name": "stdout",
     "output_type": "stream",
     "text": [
      "Secret function:\n",
      "f(x) = x*<1,0,0,1,1,1,1,1> + 1 (mod 2)\n",
      "\n",
      "Circuit:\n",
      "(0, 0): ───H───────────@───H───────────────────────M('result')───\n",
      "                       │                           │\n",
      "(1, 0): ───H───H───────┼───────────────────────────M─────────────\n",
      "                       │                           │\n",
      "(2, 0): ───H───H───────┼───────────────────────────M─────────────\n",
      "                       │                           │\n",
      "(3, 0): ───H───────────┼───@───H───────────────────M─────────────\n",
      "                       │   │                       │\n",
      "(4, 0): ───H───────────┼───┼───@───H───────────────M─────────────\n",
      "                       │   │   │                   │\n",
      "(5, 0): ───H───────────┼───┼───┼───@───H───────────M─────────────\n",
      "                       │   │   │   │               │\n",
      "(6, 0): ───H───────────┼───┼───┼───┼───@───H───────M─────────────\n",
      "                       │   │   │   │   │           │\n",
      "(7, 0): ───H───────────┼───┼───┼───┼───┼───@───H───M─────────────\n",
      "                       │   │   │   │   │   │\n",
      "(8, 0): ───X───M───X───X───X───X───X───X───X─────────────────────\n",
      "\n",
      "MSampled results:\n",
      "Counter({'00000000': 3})\n",
      "\n",
      "Most common matches secret factors:\n",
      "False\n"
     ]
    }
   ],
   "source": [
    "if __name__ == '__main__':\n",
    "    main()"
   ]
  },
  {
   "cell_type": "code",
   "execution_count": null,
   "metadata": {},
   "outputs": [],
   "source": []
  }
 ],
 "metadata": {
  "kernelspec": {
   "display_name": "Python 3",
   "language": "python",
   "name": "python3"
  },
  "language_info": {
   "codemirror_mode": {
    "name": "ipython",
    "version": 3
   },
   "file_extension": ".py",
   "mimetype": "text/x-python",
   "name": "python",
   "nbconvert_exporter": "python",
   "pygments_lexer": "ipython3",
   "version": "3.8.5"
  }
 },
 "nbformat": 4,
 "nbformat_minor": 4
}
