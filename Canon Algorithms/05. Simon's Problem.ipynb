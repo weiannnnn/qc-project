{
 "cells": [
  {
   "cell_type": "markdown",
   "metadata": {},
   "source": []
  },
  {
   "cell_type": "markdown",
   "metadata": {},
   "source": [
    "Periodicity of a function: \n",
    "\n",
    "Functions that map 2 inputs to 1 output (2:1) exhibit periodicity, where the period is the smallest number, $n>0$ such that $f(n)=1$ since $n=0$.\n",
    "\n",
    "In other words, for a function defined by \n",
    "$$ f(n) = a^n(modN)$$\n",
    "$$ a^0 = (mod N) = 1$$\n",
    "find the next $n$ such that \n",
    "$$ a^n = (mod N) = 1$$"
   ]
  },
  {
   "cell_type": "markdown",
   "metadata": {},
   "source": [
    "Outline of the Simon's Problem: \n",
    "\n",
    "Considering an oracle that implements function mapping an $n$-bit string to an $m$-bit string $f:\\{0,1\\}^n -> \\{0,1\\}^m$, with $m \\geq n$, where it's promised that $f$ is a 1:1 or 2:1 type function, with a non-zero period $s ( \\{0,1\\}^n$. \n",
    "\n",
    "Such that for $x, x_0$ we have $f(x) = f(x_0)$ if and only if $x_0 = x \\bigoplus s$ (where $\\bigoplus$ corresponds to addition modulo-2.\n",
    "\n",
    "The problem is to determine if the type of function $f$, and if it is 2:1, to determine the period $s$"
   ]
  },
  {
   "cell_type": "markdown",
   "metadata": {},
   "source": [
    "Simon's problem proved that we can solve this problem exponentially faster on a QC.  Shor built on this key result in developing algorithm for factoring large numbers when he realised that finding the periodicity of a function, and factoriing a large composite number are isomorphic problems."
   ]
  },
  {
   "cell_type": "code",
   "execution_count": null,
   "metadata": {},
   "outputs": [],
   "source": []
  },
  {
   "cell_type": "code",
   "execution_count": null,
   "metadata": {},
   "outputs": [],
   "source": []
  }
 ],
 "metadata": {
  "kernelspec": {
   "display_name": "Python 3",
   "language": "python",
   "name": "python3"
  },
  "language_info": {
   "codemirror_mode": {
    "name": "ipython",
    "version": 3
   },
   "file_extension": ".py",
   "mimetype": "text/x-python",
   "name": "python",
   "nbconvert_exporter": "python",
   "pygments_lexer": "ipython3",
   "version": "3.8.5"
  }
 },
 "nbformat": 4,
 "nbformat_minor": 4
}
