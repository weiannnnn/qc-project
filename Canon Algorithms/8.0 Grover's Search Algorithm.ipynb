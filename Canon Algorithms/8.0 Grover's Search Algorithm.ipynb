{
 "cells": [
  {
   "cell_type": "code",
   "execution_count": 1,
   "metadata": {},
   "outputs": [],
   "source": [
    "# Imports\n",
    "import random\n",
    "import cirq"
   ]
  },
  {
   "cell_type": "code",
   "execution_count": 3,
   "metadata": {},
   "outputs": [],
   "source": [
    "def set_io_qubits(qubit_count):\n",
    "    \"\"\"Add specified number of input and output qubits\"\"\"\n",
    "    input_qubits = [cirq.GridQubit(i, 0) for i in range(qubit_count)]\n",
    "    output_qubit = cirq.GridQubit(qubit_count, 0)\n",
    "    return (input_qubits, output_qubit)\n",
    "\n",
    "def make_oracle(input_qubits, output_qubit, x_bits):\n",
    "    \"\"\"Implement function {f(x) = 1 if x==x', f(x) = 0 if x!=x'}\"\"\"\n",
    "    # Make oracle\n",
    "    # For (1, 1) it's just a Toffoli gate\n",
    "    # Otherwise negate the zero-bits\n",
    "    yield(cirq.X(q) for (q, bit) in zip(input_qubits, x_bits) if not bit)\n",
    "    yield(cirq.TOFFOLI(input_qubits[0], input_qubits[1], output_qubit))\n",
    "    yield(cirq.X(q) for (q, bit) in zip(input_qubits, x_bits) if not bit)\n",
    "    "
   ]
  },
  {
   "cell_type": "code",
   "execution_count": 8,
   "metadata": {},
   "outputs": [],
   "source": [
    "def make_grover_circuit(input_qubits, output_qubit, oracle):\n",
    "    \"\"\"Find the value recognized by the oracle in sqrt(N) attempts\"\"\"\n",
    "    # For 2 input qubits, that means using Grover operator only once\n",
    "    c = cirq.Circuit()\n",
    "    \n",
    "    # Initialize qubits\n",
    "    c.append([\n",
    "        cirq.X(output_qubit),\n",
    "        cirq.H(output_qubit),\n",
    "        cirq.H.on_each(*input_qubits)\n",
    "    ])\n",
    "    \n",
    "    # Query oracle\n",
    "    c.append(oracle)\n",
    "    \n",
    "    # Construct the Grover operator\n",
    "    c.append(cirq.H.on_each(*input_qubits))\n",
    "    c.append(cirq.X.on_each(*input_qubits))\n",
    "    c.append(cirq.H.on(input_qubits[1]))\n",
    "    c.append(cirq.CNOT(input_qubits[0], input_qubits[1]))\n",
    "    c.append(cirq.H.on(input_qubits[1]))\n",
    "    c.append(cirq.X.on_each(*input_qubits))\n",
    "    c.append(cirq.H.on_each(*input_qubits))\n",
    "\n",
    "    # Measure result\n",
    "    c.append(cirq.measure(*input_qubits, key='result'))\n",
    "    \n",
    "    return c"
   ]
  },
  {
   "cell_type": "code",
   "execution_count": 9,
   "metadata": {},
   "outputs": [],
   "source": [
    "def bitstring(bits):\n",
    "    return ''.join(str(int(b)) for b in bits)\n",
    "\n",
    "def main():\n",
    "    qubit_count = 2\n",
    "    circuit_sample_count = 10\n",
    "    \n",
    "    # Set up input and output qubits\n",
    "    (input_qubits, output_qubit) = set_io_qubits(qubit_count)\n",
    "    \n",
    "    # Choose the x' and make oracle which can recognize it\n",
    "    x_bits = [random.randint(0,1) for _ in range(qubit_count)]\n",
    "    print('Secret bit sequence: {}',format(x_bits))\n",
    "    \n",
    "    # Make oracle (black box)\n",
    "    oracle = make_oracle(input_qubits, output_qubit, x_bits)\n",
    "    \n",
    "    # Embed the oracle into quantum circuit implementing Grover's algorithm\n",
    "    circuit = make_grover_circuit(input_qubits, output_qubit, oracle)\n",
    "    print('Circuit:')\n",
    "    print(circuit)\n",
    "    \n",
    "    # Sample from the circuit couple of times\n",
    "    simulator = cirq.Simulator()\n",
    "    result = simulator.run(circuit, repetitions=circuit_sample_count)\n",
    "    frequencies = result.histogram(key='result', fold_func=bitstring)\n",
    "    print('Sampled results:\\n{}'.format(frequencies))\n",
    "    \n",
    "    # Check if we've actually found the sampled value\n",
    "    most_common_bitstring = frequencies.most_common(1)[0][0]\n",
    "    print('Most common bitstring: {}'.format(most_common_bitstring))\n",
    "    print('Found a match: {}'.format(\n",
    "        most_common_bitstring == bitstring(x_bits)))"
   ]
  },
  {
   "cell_type": "code",
   "execution_count": 10,
   "metadata": {},
   "outputs": [
    {
     "name": "stdout",
     "output_type": "stream",
     "text": [
      "Secret bit sequence: {} [0, 1]\n",
      "Circuit:\n",
      "(0, 0): ───H───X───@───X───H───X───@───X───H───────M('result')───\n",
      "                   │               │               │\n",
      "(1, 0): ───H───────@───H───X───H───X───H───X───H───M─────────────\n",
      "                   │\n",
      "(2, 0): ───X───H───X─────────────────────────────────────────────\n",
      "Sampled results:\n",
      "Counter({'01': 10})\n",
      "Most common bitstring: 01\n",
      "Found a match: True\n"
     ]
    }
   ],
   "source": [
    "if __name__ == '__main__':\n",
    "    main()"
   ]
  },
  {
   "cell_type": "code",
   "execution_count": null,
   "metadata": {},
   "outputs": [],
   "source": []
  }
 ],
 "metadata": {
  "kernelspec": {
   "display_name": "Python 3",
   "language": "python",
   "name": "python3"
  },
  "language_info": {
   "codemirror_mode": {
    "name": "ipython",
    "version": 3
   },
   "file_extension": ".py",
   "mimetype": "text/x-python",
   "name": "python",
   "nbconvert_exporter": "python",
   "pygments_lexer": "ipython3",
   "version": "3.8.5"
  }
 },
 "nbformat": 4,
 "nbformat_minor": 4
}
