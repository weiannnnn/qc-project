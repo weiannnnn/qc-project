{
 "cells": [
  {
   "attachments": {
    "image.png": {
     "image/png": "[encoded data removed]"
    }
   },
   "cell_type": "markdown",
   "metadata": {},
   "source": [
    "In superdense coding, we transmit classical bits by sending only one qubit! $ [qq] + [q] \\geq [cc]$ (where $[qq]$ is a bell state that is used, but not actually \"sent\")\n",
    "\n",
    "![image.png](attachment:image.png)"
   ]
  },
  {
   "cell_type": "code",
   "execution_count": 1,
   "metadata": {},
   "outputs": [],
   "source": [
    "# Imports\n",
    "import cirq"
   ]
  },
  {
   "cell_type": "code",
   "execution_count": 2,
   "metadata": {},
   "outputs": [],
   "source": [
    "# Bitstring to store and visualise output\n",
    "def bitstring(bits):\n",
    "    return ''.join('1' if e else '0' for e in bits)"
   ]
  },
  {
   "cell_type": "code",
   "execution_count": 3,
   "metadata": {},
   "outputs": [],
   "source": [
    "# Create quantum register\n",
    "qreg = [cirq.LineQubit(x) for x in range(2)]\n",
    "circ = cirq.Circuit()"
   ]
  },
  {
   "cell_type": "markdown",
   "metadata": {},
   "source": [
    "Depending on what classical bits Alice wishes to send to bob, she will apply a different operator while encoding the bit. This is the library of information for each possible message"
   ]
  },
  {
   "cell_type": "code",
   "execution_count": 4,
   "metadata": {},
   "outputs": [],
   "source": [
    "messageEncoding = {\n",
    "    \"00\" : [],\n",
    "    \"01\" : [cirq.X(qreg[0])],\n",
    "    \"10\" : [cirq.Z(qreg[0])],\n",
    "    \"11\" : [cirq.X(qreg[0]), cirq.Z(qreg[0])]\n",
    "}"
   ]
  },
  {
   "cell_type": "code",
   "execution_count": 5,
   "metadata": {},
   "outputs": [],
   "source": [
    "# Create bell pair\n",
    "\n",
    "circ.append(cirq.H(qreg[0]))\n",
    "circ.append(cirq.CNOT(qreg[0], qreg[1]))"
   ]
  },
  {
   "cell_type": "code",
   "execution_count": 6,
   "metadata": {},
   "outputs": [
    {
     "name": "stdout",
     "output_type": "stream",
     "text": [
      "Alice's sent message 01\n"
     ]
    }
   ],
   "source": [
    "# Pick a message to send\n",
    "msg = \"01\"\n",
    "print(\"Alice's sent message\", msg)"
   ]
  },
  {
   "cell_type": "code",
   "execution_count": 7,
   "metadata": {},
   "outputs": [],
   "source": [
    "# Apply correct gate to 0th bit\n",
    "circ.append(messageEncoding[msg])"
   ]
  },
  {
   "cell_type": "code",
   "execution_count": 8,
   "metadata": {},
   "outputs": [],
   "source": [
    "# Bob measures in the Bell basis\n",
    "circ.append(cirq.CNOT(qreg[0], qreg[1]))\n",
    "circ.append(cirq.H(qreg[0]))\n",
    "circ.append([cirq.measure(qreg[0]), cirq.measure(qreg[1])])"
   ]
  },
  {
   "cell_type": "code",
   "execution_count": 9,
   "metadata": {},
   "outputs": [
    {
     "name": "stdout",
     "output_type": "stream",
     "text": [
      "\n",
      "Circuit:\n",
      "0: ───H───@───X───@───H───M───\n",
      "          │       │\n",
      "1: ───────X───────X───M───────\n"
     ]
    }
   ],
   "source": [
    "print(\"\\nCircuit:\")\n",
    "print(circ)"
   ]
  },
  {
   "cell_type": "code",
   "execution_count": 10,
   "metadata": {},
   "outputs": [],
   "source": [
    "# Simulate circuit\n",
    "sim = cirq.Simulator()\n",
    "res = sim.run(circ, repetitions=1)\n"
   ]
  },
  {
   "cell_type": "code",
   "execution_count": 11,
   "metadata": {},
   "outputs": [
    {
     "name": "stdout",
     "output_type": "stream",
     "text": [
      "raw results:  0=0\n",
      "1=1\n",
      "\n",
      "Bob's received message = 10\n"
     ]
    }
   ],
   "source": [
    "print(\"raw results: \", res)\n",
    "print(\"\\nBob's received message =\", bitstring(res.measurements.values()))"
   ]
  },
  {
   "cell_type": "code",
   "execution_count": null,
   "metadata": {},
   "outputs": [],
   "source": []
  }
 ],
 "metadata": {
  "kernelspec": {
   "display_name": "Python 3",
   "language": "python",
   "name": "python3"
  },
  "language_info": {
   "codemirror_mode": {
    "name": "ipython",
    "version": 3
   },
   "file_extension": ".py",
   "mimetype": "text/x-python",
   "name": "python",
   "nbconvert_exporter": "python",
   "pygments_lexer": "ipython3",
   "version": "3.8.5"
  }
 },
 "nbformat": 4,
 "nbformat_minor": 4
}
