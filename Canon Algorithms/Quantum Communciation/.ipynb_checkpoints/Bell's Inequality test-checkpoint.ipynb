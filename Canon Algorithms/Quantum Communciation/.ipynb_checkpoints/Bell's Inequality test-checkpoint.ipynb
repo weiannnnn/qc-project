{
 "cells": [
  {
   "attachments": {
    "image.png": {
     "image/png": "[encoded data removed]"
    }
   },
   "cell_type": "markdown",
   "metadata": {},
   "source": [
    "This is a bit of a weird one. It shoulds how the entanglement of two bits provides more information than a classical correlation in physical system. \n",
    "\n",
    "Imagine we have a cooperative game where \n",
    "1. two players, Ali and Boon Huan, make decisions based on inputs from a referee\n",
    "2. At each round, the referee sends one bit to Alice, $x$, and one bit to Bob, $y$\n",
    "3. Depending on the value of the bit, Alice sends back a bit of her own, $a(x)$, and Bob does similarly with $b(y)$\n",
    "4. The referee will look at the returned bits and decide if they have won based on fulfilling this criteria\n",
    "\n",
    "$$a(x) \\bigoplus b(y) = xy$$\n",
    "\n",
    "(remembering that bits can only take on the values of $0$ or $1$, it's not that deep)\n",
    "\n",
    "Classically, Alice can Bob can come up with a simple, guess based strategy where their action does not change depending on the initially bits they get sent, $x & y$. For exmple, Alice always sends back $a(x)=x$ and Bob always sends back $b(y)=0$.,\n",
    "\n",
    "Turns out, the best classical strategies are when $a(x)=b(y)=0$ or $a(y)=b(y)=1$, which gives us a 75% success rate.\n",
    "\n",
    "But (and it's a big one), if we allow Alice and Bob to come up with a quantum strategy, and entangle their two bits that they will send back to the referee $(a(x) and b(y))$ before they even get the first bits $(x and y)$ - their odds go up to 85% with this circuit:\n",
    "\n",
    "![image.png](attachment:image.png)\n",
    "\n",
    "Where the \n",
    "- qubit[0] = $a(x)$\n",
    "- qubit[1].= $x$\n",
    "- qubit[2] = $b(y)$\n",
    "- qubit[3] = $y$"
   ]
  },
  {
   "cell_type": "code",
   "execution_count": 1,
   "metadata": {},
   "outputs": [],
   "source": [
    "import numpy as np\n",
    "import cirq"
   ]
  },
  {
   "cell_type": "code",
   "execution_count": 15,
   "metadata": {},
   "outputs": [],
   "source": [
    "def main():\n",
    "    # Create circuit\n",
    "    circuit = make_bell_test_circuit()\n",
    "    print('Circuit:')\n",
    "    print(circuit)\n",
    "    \n",
    "    # Simulations\n",
    "    print()\n",
    "    repetitions = 100\n",
    "    print('simulating () repetitions...'.format(repetitions))\n",
    "    result = cirq.Simulator().run(program=circuit, repetitions=repetitions)\n",
    "    \n",
    "    # Collect results\n",
    "    a = np.array(result.measurements['a'][:, 0])\n",
    "    b = np.array(result.measurements['b'][:, 0])\n",
    "    x = np.array(result.measurements['x'][:, 0])\n",
    "    y = np.array(result.measurements['y'][:, 0])\n",
    "    \n",
    "    \n",
    "    # Compute winning percentage\n",
    "    outcomes = a ^ b == x & y\n",
    "    win_percent = len([e for e in outcomes if e]) * 100 / repetitions\n",
    "    \n",
    "    # Print data\n",
    "    print()\n",
    "    print('Results')\n",
    "    print('a: ', bitstring(a))\n",
    "    print('b: ', bitstring(b))\n",
    "    print('x: ', bitstring(x))\n",
    "    print('y: ', bitstring(y))\n",
    "    print('(a XOR b) == (x AND y):\\n', bitstring(outcomes))\n",
    "    print('Win rate: ()%'.format(win_percent))\n",
    "    print(win_percent)"
   ]
  },
  {
   "cell_type": "code",
   "execution_count": 16,
   "metadata": {},
   "outputs": [],
   "source": [
    "def make_bell_test_circuit():\n",
    "    # Qubits for Alice, Bob and referees\n",
    "    alice = cirq.GridQubit(0,0)\n",
    "    bob = cirq.GridQubit(1,0)\n",
    "    alice_referee = cirq.GridQubit(0,1)\n",
    "    bob_referee = cirq.GridQubit(1,1)\n",
    "    \n",
    "    circuit = cirq.Circuit()\n",
    "    \n",
    "    # Prepare shared entangled state between alice and bob\n",
    "    circuit.append([\n",
    "        cirq.H(alice),\n",
    "        cirq.CNOT(alice, bob),\n",
    "        cirq.X(alice)**-0.25\n",
    "    ])\n",
    "    \n",
    "    # Referee flips coins\n",
    "    circuit.append([cirq.H(alice_referee), cirq.H(bob_referee)])\n",
    "    \n",
    "    # Players do a sqrt(x) based on their referees coin\n",
    "    circuit.append([\n",
    "        cirq.CNOT(alice_referee, alice)**0.5,\n",
    "        cirq.CNOT(bob_referee, bob)**0.5\n",
    "    ])\n",
    "    \n",
    "    # Record results\n",
    "    circuit.append([\n",
    "        cirq.measure(alice, key='a'),\n",
    "        cirq.measure(bob, key='b'),\n",
    "        cirq.measure(alice_referee, key='x'),\n",
    "        cirq.measure(bob_referee, key='y')\n",
    "    ])\n",
    "    \n",
    "    return circuit"
   ]
  },
  {
   "cell_type": "code",
   "execution_count": 17,
   "metadata": {},
   "outputs": [],
   "source": [
    "def bitstring(bits):\n",
    "    return ''.join('1' if e else '_' for e in bits)"
   ]
  },
  {
   "cell_type": "code",
   "execution_count": 18,
   "metadata": {},
   "outputs": [
    {
     "name": "stdout",
     "output_type": "stream",
     "text": [
      "Circuit:\n",
      "(0, 0): ───H───@───X^-0.25───X────────M('a')───\n",
      "               │             │\n",
      "(0, 1): ───H───┼─────────────@^0.5────M('x')───\n",
      "               │\n",
      "(1, 0): ───────X───X─────────M('b')────────────\n",
      "                   │\n",
      "(1, 1): ───H───────@^0.5─────M('y')────────────\n",
      "\n",
      "simulating () repetitions...\n",
      "\n",
      "Results\n",
      "a:  11__1___1_1__1111_11__1__1_11___11_1_1_____1111_1_111____1___1__1111__1_11__11111_111_1_1___1__1_111\n",
      "b:  11111___1_1__111111___1_11_11_1_1__1_11___11_1___1_1_11_1__1____11______111_11_11111111__1_1_1111111\n",
      "x:  1___1_______1____11____111______111___1_1_111_1_1111111111_1_11__111__1_1_1___1__1____1_1_111_111___\n",
      "y:  1________________1__11111___1__1_11_111_111_1111111_111_1111_1__1__1__1___1_1_11_1______11_1111___11\n",
      "(a XOR b) == (x AND y):\n",
      " _1__111111111111111_111_111111_111_11111_1111111111111111111111111_111111111111111111_111_111_11_111\n",
      "Win rate: ()%\n",
      "87.0\n"
     ]
    }
   ],
   "source": [
    "if __name__ == '__main__':\n",
    "    main()"
   ]
  },
  {
   "cell_type": "code",
   "execution_count": null,
   "metadata": {},
   "outputs": [],
   "source": []
  }
 ],
 "metadata": {
  "kernelspec": {
   "display_name": "Python 3",
   "language": "python",
   "name": "python3"
  },
  "language_info": {
   "codemirror_mode": {
    "name": "ipython",
    "version": 3
   },
   "file_extension": ".py",
   "mimetype": "text/x-python",
   "name": "python",
   "nbconvert_exporter": "python",
   "pygments_lexer": "ipython3",
   "version": "3.8.5"
  }
 },
 "nbformat": 4,
 "nbformat_minor": 4
}
