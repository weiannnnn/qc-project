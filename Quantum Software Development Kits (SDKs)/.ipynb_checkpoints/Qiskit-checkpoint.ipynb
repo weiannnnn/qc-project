{
 "cells": [
  {
   "cell_type": "markdown",
   "metadata": {},
   "source": [
    "Qiskit is IBM's python based quantum framework\n",
    "\n",
    "The simulated backends are imported from the [Qiskit Aer](https://medium.com/qiskit/qiskit-aer-d09d0fac7759) simulator framework, which is pretty cool! the qasm_simulator allows for ideal and noisy multi-shot executions or circuits, and returns counts or memory\n",
    "\n",
    "Wins the award for best circuit drawer"
   ]
  },
  {
   "cell_type": "code",
   "execution_count": 1,
   "metadata": {},
   "outputs": [],
   "source": [
    "import qiskit"
   ]
  },
  {
   "cell_type": "code",
   "execution_count": 2,
   "metadata": {},
   "outputs": [],
   "source": [
    "qreg = qiskit.QuantumRegister(1, name='qreg')\n",
    "creg = qiskit.ClassicalRegister(1, name='creg')"
   ]
  },
  {
   "cell_type": "markdown",
   "metadata": {},
   "source": [
    "Qiskit uses the idea of Quantum Registers as a way to declare your qubits. A Quantum Register is a system of qubits, and is the quantum analog of a classical processor register. \n",
    "\n",
    "We also create a classical register to store the results of measurement"
   ]
  },
  {
   "cell_type": "code",
   "execution_count": 3,
   "metadata": {},
   "outputs": [
    {
     "name": "stdout",
     "output_type": "stream",
     "text": [
      "        ┌───┐┌─┐\n",
      "qreg_0: ┤ X ├┤M├\n",
      "        └───┘└╥┘\n",
      "creg: 1/══════╩═\n",
      "              0 \n",
      "{'1': 10}\n"
     ]
    }
   ],
   "source": [
    "circ = qiskit.QuantumCircuit(qreg, creg)\n",
    "circ.x(qreg[0])\n",
    "circ.measure(qreg, creg)\n",
    "print(circ.draw())\n",
    "\n",
    "\n",
    "backend = qiskit.BasicAer.get_backend('qasm_simulator')\n",
    "# This is where the magic happens\n",
    "job = qiskit.execute(circ, backend, shots=10)\n",
    "result = job.result()\n",
    "\n",
    "print(result.get_counts())"
   ]
  },
  {
   "cell_type": "code",
   "execution_count": null,
   "metadata": {},
   "outputs": [],
   "source": []
  }
 ],
 "metadata": {
  "kernelspec": {
   "display_name": "Python 3",
   "language": "python",
   "name": "python3"
  },
  "language_info": {
   "codemirror_mode": {
    "name": "ipython",
    "version": 3
   },
   "file_extension": ".py",
   "mimetype": "text/x-python",
   "name": "python",
   "nbconvert_exporter": "python",
   "pygments_lexer": "ipython3",
   "version": "3.8.5"
  }
 },
 "nbformat": 4,
 "nbformat_minor": 4
}
