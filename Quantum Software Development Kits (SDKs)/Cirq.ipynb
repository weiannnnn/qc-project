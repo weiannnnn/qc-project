{
 "cells": [
  {
   "cell_type": "markdown",
   "metadata": {},
   "source": [
    "### Google's Cirq framework\n",
    "\n",
    "Key features\n",
    "- Python\n",
    "- Qubits exist independently of registers, unlike Qiskit"
   ]
  },
  {
   "cell_type": "code",
   "execution_count": 1,
   "metadata": {},
   "outputs": [],
   "source": [
    "import cirq"
   ]
  },
  {
   "cell_type": "code",
   "execution_count": 21,
   "metadata": {},
   "outputs": [
    {
     "name": "stdout",
     "output_type": "stream",
     "text": [
      "Circuit:\n",
      "(0, 0): ───X───M('m')───\n",
      "Results:\n",
      "m=1111111111\n"
     ]
    }
   ],
   "source": [
    "qubit = cirq.GridQubit(0,0)\n",
    "\n",
    "circuit = cirq.Circuit([\n",
    "    cirq.X(qubit),\n",
    "    cirq.measure(qubit, key='m')\n",
    "])\n",
    "\n",
    "print(\"Circuit:\")\n",
    "print(circuit)\n",
    "\n",
    "simulator = cirq.Simulator()\n",
    "\n",
    "result = simulator.run(circuit, repetitions=10)\n",
    "\n",
    "print (\"Results:\")\n",
    "print(result)"
   ]
  }
 ],
 "metadata": {
  "kernelspec": {
   "display_name": "Python 3",
   "language": "python",
   "name": "python3"
  },
  "language_info": {
   "codemirror_mode": {
    "name": "ipython",
    "version": 3
   },
   "file_extension": ".py",
   "mimetype": "text/x-python",
   "name": "python",
   "nbconvert_exporter": "python",
   "pygments_lexer": "ipython3",
   "version": "3.8.5"
  }
 },
 "nbformat": 4,
 "nbformat_minor": 4
}
